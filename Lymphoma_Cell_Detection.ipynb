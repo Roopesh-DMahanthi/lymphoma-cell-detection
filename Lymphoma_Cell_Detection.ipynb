{
  "nbformat": 4,
  "nbformat_minor": 0,
  "metadata": {
    "colab": {
      "name": "Lymphoma_Cell_Detection.ipynb",
      "provenance": [],
      "collapsed_sections": [],
      "include_colab_link": true
    },
    "kernelspec": {
      "name": "python3",
      "display_name": "Python 3"
    },
    "accelerator": "GPU"
  },
  "cells": [
    {
      "cell_type": "markdown",
      "metadata": {
        "id": "view-in-github",
        "colab_type": "text"
      },
      "source": [
        "<a href=\"https://colab.research.google.com/github/Roopesh-DMahanthi/lymphoma-cell-detection/blob/master/Lymphoma_Cell_Detection.ipynb\" target=\"_parent\"><img src=\"https://colab.research.google.com/assets/colab-badge.svg\" alt=\"Open In Colab\"/></a>"
      ]
    },
    {
      "cell_type": "code",
      "metadata": {
        "id": "NrgSob-AFTcV",
        "colab_type": "code",
        "colab": {}
      },
      "source": [
        "import pandas as pd\n",
        "import numpy as np\n",
        "import matplotlib.pyplot as plt\n",
        "import seaborn as sns"
      ],
      "execution_count": 0,
      "outputs": []
    },
    {
      "cell_type": "code",
      "metadata": {
        "id": "F1k3dyccJyJ6",
        "colab_type": "code",
        "colab": {}
      },
      "source": [
        "df = pd.read_csv('https://github.com/Roopesh-DMahanthi/lymphoma-cell-detection/raw/master/Lymphoma-Dataset.csv') "
      ],
      "execution_count": 0,
      "outputs": []
    },
    {
      "cell_type": "code",
      "metadata": {
        "id": "GMSLvfMgKBlZ",
        "colab_type": "code",
        "outputId": "8e3cb2bb-bfc6-4850-908d-03e773480d9f",
        "colab": {
          "base_uri": "https://localhost:8080/",
          "height": 221
        }
      },
      "source": [
        "print((df.isna()==True).sum())"
      ],
      "execution_count": 356,
      "outputs": [
        {
          "output_type": "stream",
          "text": [
            "V1       0\n",
            "V2       0\n",
            "V3       0\n",
            "V4       0\n",
            "V5       0\n",
            "        ..\n",
            "V7127    0\n",
            "V7128    0\n",
            "V7129    0\n",
            "TYPE     0\n",
            "DTH      0\n",
            "Length: 7131, dtype: int64\n"
          ],
          "name": "stdout"
        }
      ]
    },
    {
      "cell_type": "code",
      "metadata": {
        "id": "iEARvNumKEVH",
        "colab_type": "code",
        "outputId": "b37eaf3f-85c0-4456-e13f-b06b2225b500",
        "colab": {
          "base_uri": "https://localhost:8080/",
          "height": 68
        }
      },
      "source": [
        "X = df.iloc[:,:-2].values\n",
        "y1 = df.iloc[:,-2].values\n",
        "y2 = df.iloc[:,-1].values\n",
        "print(\"X - Shape {}\".format(X.shape))\n",
        "print(\"y1 - Shape {}\".format(y1.shape))\n",
        "print(\"y2 - Shape {}\".format(y2.shape))"
      ],
      "execution_count": 357,
      "outputs": [
        {
          "output_type": "stream",
          "text": [
            "X - Shape (77, 7129)\n",
            "y1 - Shape (77,)\n",
            "y2 - Shape (77,)\n"
          ],
          "name": "stdout"
        }
      ]
    },
    {
      "cell_type": "code",
      "metadata": {
        "id": "0kxSG3xbKagT",
        "colab_type": "code",
        "colab": {}
      },
      "source": [
        "from sklearn.preprocessing import LabelEncoder,MinMaxScaler,StandardScaler\n",
        "from sklearn.model_selection import train_test_split as tts\n",
        "from sklearn.decomposition import PCA"
      ],
      "execution_count": 0,
      "outputs": []
    },
    {
      "cell_type": "code",
      "metadata": {
        "id": "eJ8zBLmkN5na",
        "colab_type": "code",
        "colab": {}
      },
      "source": [
        "le_c = LabelEncoder()\n",
        "le_c.fit(y1)\n",
        "y_map1 = {i : l for i, l in enumerate(le_c.classes_)}\n",
        "y1 = le_c.transform(y1)\n",
        "le_d = LabelEncoder()\n",
        "le_d.fit(y2)\n",
        "y_map2 = {i : l for i, l in enumerate(le_d.classes_)}\n",
        "y2 = le_d.transform(y2)"
      ],
      "execution_count": 0,
      "outputs": []
    },
    {
      "cell_type": "code",
      "metadata": {
        "id": "hPoMFJ2Po5--",
        "colab_type": "code",
        "colab": {
          "base_uri": "https://localhost:8080/",
          "height": 34
        },
        "outputId": "deb6f874-7fd1-43ee-86b3-3ff604d1fec5"
      },
      "source": [
        "y_map2"
      ],
      "execution_count": 360,
      "outputs": [
        {
          "output_type": "execute_result",
          "data": {
            "text/plain": [
              "{0: 'CURED', 1: 'FATAL'}"
            ]
          },
          "metadata": {
            "tags": []
          },
          "execution_count": 360
        }
      ]
    },
    {
      "cell_type": "code",
      "metadata": {
        "id": "b-A5Ye3NKt6w",
        "colab_type": "code",
        "colab": {}
      },
      "source": [
        "X_trn,X_tst,y_trn1,y_tst1 = tts(X,y1,test_size=0.3,random_state=0)\n",
        "_,_,y_trn2,y_tst2 = tts(X,y2,test_size=0.3,random_state=0)"
      ],
      "execution_count": 0,
      "outputs": []
    },
    {
      "cell_type": "code",
      "metadata": {
        "id": "VKaxv0AsWfem",
        "colab_type": "code",
        "colab": {}
      },
      "source": [
        "pca = PCA(n_components= 10)\n",
        "X_trn = pca.fit_transform(X_trn)\n",
        "X_tst = pca.fit_transform(X_tst)"
      ],
      "execution_count": 0,
      "outputs": []
    },
    {
      "cell_type": "code",
      "metadata": {
        "id": "6B1osLNvHnET",
        "colab_type": "code",
        "colab": {}
      },
      "source": [
        "sc=StandardScaler()\n",
        "X_trn=sc.fit_transform(X_trn)\n",
        "X_tst=sc.fit_transform(X_tst)"
      ],
      "execution_count": 0,
      "outputs": []
    },
    {
      "cell_type": "code",
      "metadata": {
        "id": "Wqw0mZrPbCBs",
        "colab_type": "code",
        "colab": {}
      },
      "source": [
        "from sklearn.linear_model import LogisticRegression as LogReg\n",
        "from sklearn.svm import SVC\n",
        "from sklearn.tree import DecisionTreeClassifier as DecTreeC\n",
        "from sklearn.ensemble import RandomForestClassifier as RndFC\n",
        "from sklearn.neighbors import KNeighborsClassifier as KnnC\n",
        "from sklearn.metrics import classification_report as report ,confusion_matrix as cmatrix, accuracy_score"
      ],
      "execution_count": 0,
      "outputs": []
    },
    {
      "cell_type": "code",
      "metadata": {
        "id": "_x2tUR29kCTt",
        "colab_type": "code",
        "colab": {}
      },
      "source": [
        "models = ['LogisticRegression','SVC','DecisionTreeClassifier','RandomForestClassifier','KNeighborsClassifier']\n",
        "accu_types = ['Training Data Accuracy','Testing Data Accuracy']\n",
        "dict1={}\n",
        "dict2={}"
      ],
      "execution_count": 0,
      "outputs": []
    },
    {
      "cell_type": "code",
      "metadata": {
        "id": "mleLP8hec1wj",
        "colab_type": "code",
        "colab": {}
      },
      "source": [
        "obj = LogReg(penalty='l2',class_weight='balanced',max_iter=1000)\n",
        "obj.fit(X_trn,y_trn1)\n",
        "accu_trn = accuracy_score(obj.predict(X_trn) ,y_trn1)\n",
        "accu_tst = accuracy_score(obj.predict(X_tst) ,y_tst1)\n",
        "dict1.update( {models[0] : { accu_types[0] : accu_trn , accu_types[1] : accu_tst}})"
      ],
      "execution_count": 0,
      "outputs": []
    },
    {
      "cell_type": "code",
      "metadata": {
        "id": "4Gn4vk68guDr",
        "colab_type": "code",
        "colab": {}
      },
      "source": [
        "obj = SVC(kernel='rbf',degree=3)\n",
        "obj.fit(X_trn,y_trn1)\n",
        "accu_trn = accuracy_score(obj.predict(X_trn) ,y_trn1)\n",
        "accu_tst = accuracy_score(obj.predict(X_tst) ,y_tst1)\n",
        "dict1.update( {models[1] : { accu_types[0] : accu_trn , accu_types[1] : accu_tst}})"
      ],
      "execution_count": 0,
      "outputs": []
    },
    {
      "cell_type": "code",
      "metadata": {
        "id": "fCAdvHIQpRVR",
        "colab_type": "code",
        "colab": {}
      },
      "source": [
        "obj = DecTreeC(criterion='gini',splitter='best',max_depth=10,min_samples_leaf=1)\n",
        "obj.fit(X_trn,y_trn1)\n",
        "accu_trn = accuracy_score(obj.predict(X_trn) ,y_trn1)\n",
        "accu_tst = accuracy_score(obj.predict(X_tst) ,y_tst1)\n",
        "dict1.update( {models[2] : { accu_types[0] : accu_trn , accu_types[1] : accu_tst}})"
      ],
      "execution_count": 0,
      "outputs": []
    },
    {
      "cell_type": "code",
      "metadata": {
        "id": "Bb733YvHpUAv",
        "colab_type": "code",
        "colab": {}
      },
      "source": [
        "obj = RndFC(n_estimators=50,criterion='gini',random_state=0)\n",
        "obj.fit(X_trn,y_trn1)\n",
        "accu_trn = accuracy_score(obj.predict(X_trn) ,y_trn1)\n",
        "accu_tst = accuracy_score(obj.predict(X_tst) ,y_tst1)\n",
        "dict1.update( {models[3] : { accu_types[0] : accu_trn , accu_types[1] : accu_tst}})"
      ],
      "execution_count": 0,
      "outputs": []
    },
    {
      "cell_type": "code",
      "metadata": {
        "id": "EUcyWGFhqE7R",
        "colab_type": "code",
        "colab": {}
      },
      "source": [
        "obj = KnnC(n_neighbors=10,weights='distance',metric='minkowski')\n",
        "obj.fit(X_trn,y_trn1)\n",
        "accu_trn = accuracy_score(obj.predict(X_trn) ,y_trn1)\n",
        "accu_tst = accuracy_score(obj.predict(X_tst) ,y_tst1)\n",
        "dict1.update( {models[4] : { accu_types[0] : accu_trn , accu_types[1] : accu_tst}})"
      ],
      "execution_count": 0,
      "outputs": []
    },
    {
      "cell_type": "code",
      "metadata": {
        "colab_type": "code",
        "id": "m-NgGWYhqC3F",
        "colab": {}
      },
      "source": [
        "obj = LogReg(penalty='l2',class_weight='balanced',max_iter=1000)\n",
        "obj.fit(X_trn,y_trn2)\n",
        "accu_trn = accuracy_score(obj.predict(X_trn) ,y_trn2)\n",
        "accu_tst = accuracy_score(obj.predict(X_tst) ,y_tst2)\n",
        "dict2.update( {models[0] : { accu_types[0] : accu_trn , accu_types[1] : accu_tst}})"
      ],
      "execution_count": 0,
      "outputs": []
    },
    {
      "cell_type": "code",
      "metadata": {
        "colab_type": "code",
        "id": "kaeGeZ1rqC3M",
        "colab": {}
      },
      "source": [
        "obj = SVC(kernel='rbf',degree=3)\n",
        "obj.fit(X_trn,y_trn2)\n",
        "accu_trn = accuracy_score(obj.predict(X_trn) ,y_trn2)\n",
        "accu_tst = accuracy_score(obj.predict(X_tst) ,y_tst2)\n",
        "dict2.update( {models[1] : { accu_types[0] : accu_trn , accu_types[1] : accu_tst}})"
      ],
      "execution_count": 0,
      "outputs": []
    },
    {
      "cell_type": "code",
      "metadata": {
        "colab_type": "code",
        "id": "onvAjPfCqC3T",
        "colab": {}
      },
      "source": [
        "obj = DecTreeC(criterion='gini',splitter='best',max_depth=10,min_samples_leaf=1)\n",
        "obj.fit(X_trn,y_trn1)\n",
        "accu_trn = accuracy_score(obj.predict(X_trn) ,y_trn1)\n",
        "accu_tst = accuracy_score(obj.predict(X_tst) ,y_tst1)\n",
        "dict2.update( {models[2] : { accu_types[0] : accu_trn , accu_types[1] : accu_tst}})"
      ],
      "execution_count": 0,
      "outputs": []
    },
    {
      "cell_type": "code",
      "metadata": {
        "colab_type": "code",
        "id": "LNlep2OhqC3X",
        "colab": {}
      },
      "source": [
        "obj = RndFC(n_estimators=50,criterion='gini',random_state=0)\n",
        "obj.fit(X_trn,y_trn2)\n",
        "accu_trn = accuracy_score(obj.predict(X_trn) ,y_trn2)\n",
        "accu_tst = accuracy_score(obj.predict(X_tst) ,y_tst2)\n",
        "dict2.update( {models[3] : { accu_types[0] : accu_trn , accu_types[1] : accu_tst}})"
      ],
      "execution_count": 0,
      "outputs": []
    },
    {
      "cell_type": "code",
      "metadata": {
        "colab_type": "code",
        "id": "3fJcPsIUqC3b",
        "colab": {}
      },
      "source": [
        "obj = KnnC(n_neighbors=10,weights='distance',metric='minkowski')\n",
        "obj.fit(X_trn,y_trn2)\n",
        "accu_trn = accuracy_score(obj.predict(X_trn) ,y_trn2)\n",
        "accu_tst = accuracy_score(obj.predict(X_tst) ,y_tst2)\n",
        "dict2.update( {models[4] : { accu_types[0] : accu_trn , accu_types[1] : accu_tst}})"
      ],
      "execution_count": 0,
      "outputs": []
    },
    {
      "cell_type": "code",
      "metadata": {
        "id": "MPu7kaFP6QBL",
        "colab_type": "code",
        "outputId": "e8bddb84-7569-4650-f690-7e43a758c1f8",
        "colab": {
          "base_uri": "https://localhost:8080/",
          "height": 357
        }
      },
      "source": [
        "trn_accs1=[]\n",
        "tst_accs1=[]\n",
        "for k,v in dict1.items():\n",
        "  print(k)\n",
        "  for k2,v2 in v.items():\n",
        "    print(\"\\t %s - %f\"%(k2,v2))\n",
        "    if(k2==accu_types[0]):\n",
        "      trn_accs1.append(v2)\n",
        "    else:\n",
        "      tst_accs1.append(v2)\n",
        "  print()"
      ],
      "execution_count": 376,
      "outputs": [
        {
          "output_type": "stream",
          "text": [
            "LogisticRegression\n",
            "\t Training Data Accuracy - 0.962264\n",
            "\t Testing Data Accuracy - 0.625000\n",
            "\n",
            "SVC\n",
            "\t Training Data Accuracy - 0.962264\n",
            "\t Testing Data Accuracy - 0.583333\n",
            "\n",
            "DecisionTreeClassifier\n",
            "\t Training Data Accuracy - 1.000000\n",
            "\t Testing Data Accuracy - 0.625000\n",
            "\n",
            "RandomForestClassifier\n",
            "\t Training Data Accuracy - 1.000000\n",
            "\t Testing Data Accuracy - 0.666667\n",
            "\n",
            "KNeighborsClassifier\n",
            "\t Training Data Accuracy - 1.000000\n",
            "\t Testing Data Accuracy - 0.541667\n",
            "\n"
          ],
          "name": "stdout"
        }
      ]
    },
    {
      "cell_type": "code",
      "metadata": {
        "id": "QCyrbelJq1cH",
        "colab_type": "code",
        "colab": {
          "base_uri": "https://localhost:8080/",
          "height": 357
        },
        "outputId": "e4accbf7-5461-4045-aa7e-17fb58467766"
      },
      "source": [
        "trn_accs2=[]\n",
        "tst_accs2=[]\n",
        "for k,v in dict2.items():\n",
        "  print(k)\n",
        "  for k2,v2 in v.items():\n",
        "    print(\"\\t %s - %f\"%(k2,v2))\n",
        "    if(k2==accu_types[0]):\n",
        "      trn_accs2.append(v2)\n",
        "    else:\n",
        "      tst_accs2.append(v2)\n",
        "  print()"
      ],
      "execution_count": 377,
      "outputs": [
        {
          "output_type": "stream",
          "text": [
            "LogisticRegression\n",
            "\t Training Data Accuracy - 0.830189\n",
            "\t Testing Data Accuracy - 0.625000\n",
            "\n",
            "SVC\n",
            "\t Training Data Accuracy - 0.905660\n",
            "\t Testing Data Accuracy - 0.416667\n",
            "\n",
            "DecisionTreeClassifier\n",
            "\t Training Data Accuracy - 1.000000\n",
            "\t Testing Data Accuracy - 0.583333\n",
            "\n",
            "RandomForestClassifier\n",
            "\t Training Data Accuracy - 1.000000\n",
            "\t Testing Data Accuracy - 0.583333\n",
            "\n",
            "KNeighborsClassifier\n",
            "\t Training Data Accuracy - 1.000000\n",
            "\t Testing Data Accuracy - 0.541667\n",
            "\n"
          ],
          "name": "stdout"
        }
      ]
    },
    {
      "cell_type": "code",
      "metadata": {
        "id": "HwXh9oug8FDq",
        "colab_type": "code",
        "outputId": "c3355cc6-de91-435a-cd1c-82ff1a1e4ffd",
        "colab": {
          "base_uri": "https://localhost:8080/",
          "height": 621
        }
      },
      "source": [
        "plt.figure(figsize=(30,10))\n",
        "plt.subplot(1,2,1)\n",
        "def autolabel(rects):\n",
        "    for rect in rects:\n",
        "        height = rect.get_height()\n",
        "        plt.text(rect.get_x() + rect.get_width()/2., height,'%.3f' %float(round(height,3)),ha='center', va='bottom')\n",
        "ind = np.arange(len(models))\n",
        "trn_bar = plt.bar(ind, trn_accs1, 0.25,alpha=0.5,color='y',label='Training Accuracy')\n",
        "autolabel(trn_bar)\n",
        "tst_bar = plt.bar(ind + 0.25, tst_accs1, 0.25,alpha=0.5,color='r',label='Testing Accuracy')\n",
        "autolabel(tst_bar)\n",
        "plt.xlabel('Different Models')\n",
        "plt.ylabel('Accuracy Score')\n",
        "plt.title(\"Training and Testing Accuracy's Comparision Across Different Models - CELL DETECTION\")\n",
        "plt.xticks(ind + 0.125, models)\n",
        "plt.legend()\n",
        "plt.subplot(1,2,2)\n",
        "#plt.figure(figsize=(20,12))\n",
        "def autolabel(rects):\n",
        "    for rect in rects:\n",
        "        height = rect.get_height()\n",
        "        plt.text(rect.get_x() + rect.get_width()/2., height,'%.3f' %float(round(height,3)),ha='center', va='bottom')\n",
        "ind = np.arange(len(models))\n",
        "trn_bar = plt.bar(ind, trn_accs2, 0.25,alpha=0.5,color='b',label='Training Accuracy')\n",
        "autolabel(trn_bar)\n",
        "tst_bar = plt.bar(ind + 0.25, tst_accs2, 0.25,alpha=0.5,color='g',label='Testing Accuracy')\n",
        "autolabel(tst_bar)\n",
        "plt.xlabel('Different Models')\n",
        "plt.ylabel('Accuracy Score')\n",
        "plt.title(\"Training and Testing Accuracy's Comparision Across Different Models - CURABLE/FATAL\")\n",
        "plt.xticks(ind + 0.125, models)\n",
        "plt.legend()\n",
        "plt.show()"
      ],
      "execution_count": 385,
      "outputs": [
        {
          "output_type": "display_data",
          "data": {
            "image/png": "[encoded data removed]",
            "text/plain": [
              "<Figure size 2160x720 with 2 Axes>"
            ]
          },
          "metadata": {
            "tags": []
          }
        }
      ]
    },
    {
      "cell_type": "code",
      "metadata": {
        "id": "IBcdHPCz-fcm",
        "colab_type": "code",
        "colab": {}
      },
      "source": [
        ""
      ],
      "execution_count": 0,
      "outputs": []
    }
  ]
}