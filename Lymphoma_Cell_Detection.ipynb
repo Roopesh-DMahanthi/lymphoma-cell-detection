{
  "nbformat": 4,
  "nbformat_minor": 0,
  "metadata": {
    "colab": {
      "name": "Lymphoma_Cell_Detection.ipynb",
      "provenance": [],
      "collapsed_sections": [],
      "include_colab_link": true
    },
    "kernelspec": {
      "name": "python3",
      "display_name": "Python 3"
    },
    "accelerator": "GPU"
  },
  "cells": [
    {
      "cell_type": "markdown",
      "metadata": {
        "id": "view-in-github",
        "colab_type": "text"
      },
      "source": [
        "<a href=\"https://colab.research.google.com/github/Roopesh-DMahanthi/lymphoma-cell-detection/blob/master/Lymphoma_Cell_Detection.ipynb\" target=\"_parent\"><img src=\"https://colab.research.google.com/assets/colab-badge.svg\" alt=\"Open In Colab\"/></a>"
      ]
    },
    {
      "cell_type": "markdown",
      "metadata": {
        "id": "HOAaPJsfFjS-",
        "colab_type": "text"
      },
      "source": [
        "#Non Hodgkins Lymphoma Cell Detection & Curable/Fatal State Predictor by Gene Expression Profiling using Supervised-Learning"
      ]
    },
    {
      "cell_type": "markdown",
      "metadata": {
        "id": "_i6q7deCGFCi",
        "colab_type": "text"
      },
      "source": [
        "Importing Required Dependencies\n",
        "Numpy, Pandas, Matplotlib\n"
      ]
    },
    {
      "cell_type": "code",
      "metadata": {
        "id": "NrgSob-AFTcV",
        "colab_type": "code",
        "colab": {}
      },
      "source": [
        "import pandas as pd\n",
        "import numpy as np\n",
        "import matplotlib.pyplot as plt"
      ],
      "execution_count": 0,
      "outputs": []
    },
    {
      "cell_type": "markdown",
      "metadata": {
        "id": "a48MUbshGTNV",
        "colab_type": "text"
      },
      "source": [
        "Importing Dataset from the Below Github Link concerned with this Project"
      ]
    },
    {
      "cell_type": "code",
      "metadata": {
        "id": "F1k3dyccJyJ6",
        "colab_type": "code",
        "colab": {}
      },
      "source": [
        "df = pd.read_csv('https://github.com/Roopesh-DMahanthi/lymphoma-cell-detection/raw/master/Lymphoma-Dataset.csv') "
      ],
      "execution_count": 0,
      "outputs": []
    },
    {
      "cell_type": "markdown",
      "metadata": {
        "id": "Bc58-oi3Gj-o",
        "colab_type": "text"
      },
      "source": [
        "Checking whether Dataset Contains any **NULL** Values"
      ]
    },
    {
      "cell_type": "code",
      "metadata": {
        "id": "GMSLvfMgKBlZ",
        "colab_type": "code",
        "outputId": "2c748d85-3d79-4a27-a559-2a6ba07f877d",
        "colab": {
          "base_uri": "https://localhost:8080/",
          "height": 221
        }
      },
      "source": [
        "print((df.isna()==True).sum())"
      ],
      "execution_count": 273,
      "outputs": [
        {
          "output_type": "stream",
          "text": [
            "V1       0\n",
            "V2       0\n",
            "V3       0\n",
            "V4       0\n",
            "V5       0\n",
            "        ..\n",
            "V7127    0\n",
            "V7128    0\n",
            "V7129    0\n",
            "TYPE     0\n",
            "DTH      0\n",
            "Length: 7131, dtype: int64\n"
          ],
          "name": "stdout"
        }
      ]
    },
    {
      "cell_type": "markdown",
      "metadata": {
        "id": "qlcuTMoYwgns",
        "colab_type": "text"
      },
      "source": [
        "Printing Unique value count in Targets"
      ]
    },
    {
      "cell_type": "code",
      "metadata": {
        "id": "q0VnZHFbTrWM",
        "colab_type": "code",
        "outputId": "d8f4e2c8-28ab-4b67-ef46-8e6983ab3082",
        "colab": {
          "base_uri": "https://localhost:8080/",
          "height": 119
        }
      },
      "source": [
        "print(df.TYPE.value_counts())\n",
        "print(df.DTH.value_counts())"
      ],
      "execution_count": 274,
      "outputs": [
        {
          "output_type": "stream",
          "text": [
            "DLBCL    58\n",
            "FL       19\n",
            "Name: TYPE, dtype: int64\n",
            "FATAL    45\n",
            "CURED    32\n",
            "Name: DTH, dtype: int64\n"
          ],
          "name": "stdout"
        }
      ]
    },
    {
      "cell_type": "markdown",
      "metadata": {
        "id": "UfmZmXLeGtB_",
        "colab_type": "text"
      },
      "source": [
        "Splitting of Features and Labels as per Required\n",
        "X contains all the Features\n",
        "y1 contains Types of Cells Details\n",
        "y2 contains whether the patient's conditon is Curable or Fatal"
      ]
    },
    {
      "cell_type": "code",
      "metadata": {
        "id": "iEARvNumKEVH",
        "colab_type": "code",
        "outputId": "947c9581-9850-4a90-a764-a9799bdcd353",
        "colab": {
          "base_uri": "https://localhost:8080/",
          "height": 68
        }
      },
      "source": [
        "X = df.iloc[:,:-2].values\n",
        "y1 = df.iloc[:,-2].values\n",
        "y2 = df.iloc[:,-1].values\n",
        "print(\"X - Shape {}\".format(X.shape))\n",
        "print(\"y1 - Shape {}\".format(y1.shape))\n",
        "print(\"y2 - Shape {}\".format(y2.shape))"
      ],
      "execution_count": 275,
      "outputs": [
        {
          "output_type": "stream",
          "text": [
            "X - Shape (77, 7129)\n",
            "y1 - Shape (77,)\n",
            "y2 - Shape (77,)\n"
          ],
          "name": "stdout"
        }
      ]
    },
    {
      "cell_type": "markdown",
      "metadata": {
        "id": "8X6pUsY4HlLn",
        "colab_type": "text"
      },
      "source": [
        "#Data Preprocessing"
      ]
    },
    {
      "cell_type": "markdown",
      "metadata": {
        "id": "5pZnAUcNHqPD",
        "colab_type": "text"
      },
      "source": [
        "Importing required Data Preprocessing Libraries"
      ]
    },
    {
      "cell_type": "code",
      "metadata": {
        "id": "0kxSG3xbKagT",
        "colab_type": "code",
        "colab": {}
      },
      "source": [
        "from sklearn.preprocessing import LabelEncoder,MinMaxScaler,StandardScaler\n",
        "from sklearn.model_selection import train_test_split as tts\n",
        "from sklearn.decomposition import PCA\n",
        "from imblearn.over_sampling import SMOTE\n",
        "from sklearn.ensemble import ExtraTreesClassifier"
      ],
      "execution_count": 0,
      "outputs": []
    },
    {
      "cell_type": "markdown",
      "metadata": {
        "id": "pfkIndSOHwi9",
        "colab_type": "text"
      },
      "source": [
        "Applying LabelEncoder over y1 and y2 to convert categorical values to Integer Values"
      ]
    },
    {
      "cell_type": "code",
      "metadata": {
        "id": "eJ8zBLmkN5na",
        "colab_type": "code",
        "colab": {}
      },
      "source": [
        "le_c = LabelEncoder()\n",
        "le_c.fit(y1)\n",
        "y_map1 = {i : l for i, l in enumerate(le_c.classes_)}\n",
        "y1 = le_c.transform(y1)\n",
        "le_d = LabelEncoder()\n",
        "le_d.fit(y2)\n",
        "y_map2 = {i : l for i, l in enumerate(le_d.classes_)}\n",
        "y2 = le_d.transform(y2)"
      ],
      "execution_count": 0,
      "outputs": []
    },
    {
      "cell_type": "markdown",
      "metadata": {
        "id": "qsQyssBQH6Jf",
        "colab_type": "text"
      },
      "source": [
        "Displaying the Mappings Done on y1 and y2"
      ]
    },
    {
      "cell_type": "code",
      "metadata": {
        "id": "hPoMFJ2Po5--",
        "colab_type": "code",
        "outputId": "5c005b14-98f5-43b0-ae27-18ebc3048b56",
        "colab": {
          "base_uri": "https://localhost:8080/",
          "height": 34
        }
      },
      "source": [
        "y_map1,y_map2"
      ],
      "execution_count": 278,
      "outputs": [
        {
          "output_type": "execute_result",
          "data": {
            "text/plain": [
              "({0: 'DLBCL', 1: 'FL'}, {0: 'CURED', 1: 'FATAL'})"
            ]
          },
          "metadata": {
            "tags": []
          },
          "execution_count": 278
        }
      ]
    },
    {
      "cell_type": "markdown",
      "metadata": {
        "id": "vJQbnpo8IYEP",
        "colab_type": "text"
      },
      "source": [
        "Splitting up of Data for Training and Testing the Models"
      ]
    },
    {
      "cell_type": "code",
      "metadata": {
        "id": "b-A5Ye3NKt6w",
        "colab_type": "code",
        "colab": {}
      },
      "source": [
        "X_trn1,X_tst1,y_trn1,y_tst1 = tts(X,y1,test_size=0.3,random_state=0,stratify=y1)\n",
        "X_trn2,X_tst2,y_trn2,y_tst2 = tts(X,y2,test_size=0.3,random_state=0,stratify=y2)"
      ],
      "execution_count": 0,
      "outputs": []
    },
    {
      "cell_type": "markdown",
      "metadata": {
        "id": "ZsP1rE2rIw6e",
        "colab_type": "text"
      },
      "source": [
        "Applying StandardScaler to Standardize values"
      ]
    },
    {
      "cell_type": "code",
      "metadata": {
        "id": "6B1osLNvHnET",
        "colab_type": "code",
        "colab": {}
      },
      "source": [
        "sc1=StandardScaler()\n",
        "X_trn1=sc1.fit_transform(X_trn1)\n",
        "X_tst1=sc1.fit_transform(X_tst1)\n",
        "sc2=StandardScaler()\n",
        "X_trn2=sc2.fit_transform(X_trn2)\n",
        "X_tst2=sc2.fit_transform(X_tst2)"
      ],
      "execution_count": 0,
      "outputs": []
    },
    {
      "cell_type": "markdown",
      "metadata": {
        "id": "-8ZQIC0ww3PY",
        "colab_type": "text"
      },
      "source": [
        "Applying **Synthetic Minority Oversampling Technique** to balance the data"
      ]
    },
    {
      "cell_type": "code",
      "metadata": {
        "id": "t4dC4GTeaiSp",
        "colab_type": "code",
        "outputId": "4181e85b-48b2-43ed-e834-0d02a6ae6426",
        "colab": {
          "base_uri": "https://localhost:8080/",
          "height": 85
        }
      },
      "source": [
        "smote1 = SMOTE(ratio='minority', n_jobs=-1)\n",
        "(X_trn1,y_trn1)= smote1.fit_resample(X_trn1,y_trn1)\n",
        "smote2 = SMOTE(ratio='minority', n_jobs=-1)\n",
        "(X_trn2,y_trn2)= smote2.fit_resample(X_trn2,y_trn2)"
      ],
      "execution_count": 281,
      "outputs": [
        {
          "output_type": "stream",
          "text": [
            "/usr/local/lib/python3.6/dist-packages/sklearn/utils/deprecation.py:87: FutureWarning: Function safe_indexing is deprecated; safe_indexing is deprecated in version 0.22 and will be removed in version 0.24.\n",
            "  warnings.warn(msg, category=FutureWarning)\n",
            "/usr/local/lib/python3.6/dist-packages/sklearn/utils/deprecation.py:87: FutureWarning: Function safe_indexing is deprecated; safe_indexing is deprecated in version 0.22 and will be removed in version 0.24.\n",
            "  warnings.warn(msg, category=FutureWarning)\n"
          ],
          "name": "stderr"
        }
      ]
    },
    {
      "cell_type": "markdown",
      "metadata": {
        "id": "K7eB-Sf2xT6K",
        "colab_type": "text"
      },
      "source": [
        "Extracting Top Required Features from the Training Data using ExtraTreesClassifier"
      ]
    },
    {
      "cell_type": "code",
      "metadata": {
        "id": "-7_QHxEDH1Rx",
        "colab_type": "code",
        "outputId": "295e2f97-b2a3-4deb-9cb6-9ec162efd32e",
        "colab": {
          "base_uri": "https://localhost:8080/",
          "height": 765
        }
      },
      "source": [
        "TOP_FEATURES = 20\n",
        "forest1 = ExtraTreesClassifier(n_estimators=250, max_depth=5, random_state=1)\n",
        "forest1.fit(X_trn1,y_trn1)\n",
        "importances = forest1.feature_importances_\n",
        "std = np.std(\n",
        "    [tree.feature_importances_ for tree in forest1.estimators_],\n",
        "    axis=0\n",
        ")\n",
        "indices = np.argsort(importances)[::-1]\n",
        "indices = indices[:TOP_FEATURES]\n",
        "X_trn1New=np.zeros((X_trn1.shape[0],TOP_FEATURES))\n",
        "X_tst1New=np.zeros((X_tst1.shape[0],TOP_FEATURES))\n",
        "print('\\tTop features - Case 1:')\n",
        "for f in range(TOP_FEATURES):\n",
        "    print('%d. feature %d (%f)' % (f + 1, indices[f], importances[indices[f]]))\n",
        "    X_trn1New[:,f]=X_trn1[:,indices[f]]\n",
        "    X_tst1New[:,f]=X_tst1[:,indices[f]]\n",
        "\n",
        "forest2 = ExtraTreesClassifier(n_estimators=250, max_depth=5, random_state=1)\n",
        "forest2.fit(X_trn2,y_trn2)\n",
        "importances = forest2.feature_importances_\n",
        "std = np.std(\n",
        "    [tree.feature_importances_ for tree in forest2.estimators_],\n",
        "    axis=0\n",
        ")\n",
        "indices = np.argsort(importances)[::-1]\n",
        "indices = indices[:TOP_FEATURES]\n",
        "X_trn2New=np.zeros((X_trn2.shape[0],TOP_FEATURES))\n",
        "X_tst2New=np.zeros((X_tst2.shape[0],TOP_FEATURES))\n",
        "print('\\n\\n\\tTop features - Case 2:')\n",
        "for f in range(TOP_FEATURES):\n",
        "    print('%d. feature %d (%f)' % (f + 1, indices[f], importances[indices[f]]))\n",
        "    X_trn2New[:,f]=X_trn2[:,indices[f]]\n",
        "    X_tst2New[:,f]=X_tst2[:,indices[f]]"
      ],
      "execution_count": 282,
      "outputs": [
        {
          "output_type": "stream",
          "text": [
            "\tTop features - Case 1:\n",
            "1. feature 612 (0.010571)\n",
            "2. feature 6178 (0.010005)\n",
            "3. feature 476 (0.006971)\n",
            "4. feature 1611 (0.005711)\n",
            "5. feature 3534 (0.005698)\n",
            "6. feature 2120 (0.005287)\n",
            "7. feature 4023 (0.004691)\n",
            "8. feature 698 (0.004629)\n",
            "9. feature 3018 (0.004529)\n",
            "10. feature 4544 (0.004520)\n",
            "11. feature 4115 (0.004431)\n",
            "12. feature 4233 (0.004119)\n",
            "13. feature 306 (0.004114)\n",
            "14. feature 2940 (0.004040)\n",
            "15. feature 6055 (0.003958)\n",
            "16. feature 3498 (0.003865)\n",
            "17. feature 6188 (0.003828)\n",
            "18. feature 4423 (0.003810)\n",
            "19. feature 5118 (0.003776)\n",
            "20. feature 5965 (0.003753)\n",
            "\n",
            "\n",
            "\tTop features - Case 2:\n",
            "1. feature 318 (0.003520)\n",
            "2. feature 3639 (0.003146)\n",
            "3. feature 4807 (0.003118)\n",
            "4. feature 6939 (0.002996)\n",
            "5. feature 2451 (0.002948)\n",
            "6. feature 6992 (0.002833)\n",
            "7. feature 2932 (0.002737)\n",
            "8. feature 1200 (0.002671)\n",
            "9. feature 6206 (0.002564)\n",
            "10. feature 8 (0.002542)\n",
            "11. feature 4806 (0.002463)\n",
            "12. feature 6679 (0.002461)\n",
            "13. feature 5527 (0.002370)\n",
            "14. feature 4192 (0.002368)\n",
            "15. feature 41 (0.002348)\n",
            "16. feature 1475 (0.002347)\n",
            "17. feature 764 (0.002303)\n",
            "18. feature 5118 (0.002279)\n",
            "19. feature 659 (0.002263)\n",
            "20. feature 56 (0.002248)\n"
          ],
          "name": "stdout"
        }
      ]
    },
    {
      "cell_type": "markdown",
      "metadata": {
        "id": "J61bulTCxgzb",
        "colab_type": "text"
      },
      "source": [
        "Replacing the Arrays with the Top Featured Data Arrays"
      ]
    },
    {
      "cell_type": "code",
      "metadata": {
        "id": "cuafBjJlkyH5",
        "colab_type": "code",
        "colab": {}
      },
      "source": [
        "X_trn1=X_trn1New\n",
        "X_tst1=X_tst1New\n",
        "X_trn2=X_trn2New\n",
        "X_tst2=X_tst2New"
      ],
      "execution_count": 0,
      "outputs": []
    },
    {
      "cell_type": "markdown",
      "metadata": {
        "id": "18fTCGsdJqC0",
        "colab_type": "text"
      },
      "source": [
        "# Importing Required Supervised-Learning Models"
      ]
    },
    {
      "cell_type": "code",
      "metadata": {
        "id": "Wqw0mZrPbCBs",
        "colab_type": "code",
        "colab": {}
      },
      "source": [
        "from sklearn.linear_model import LogisticRegression as LogReg\n",
        "from sklearn.svm import SVC\n",
        "from sklearn.tree import DecisionTreeClassifier as DecTreeC\n",
        "from sklearn.ensemble import RandomForestClassifier as RndFC , StackingClassifier\n",
        "from sklearn.neighbors import KNeighborsClassifier as KnnC\n",
        "from sklearn.metrics import classification_report as report ,confusion_matrix as cmatrix, accuracy_score"
      ],
      "execution_count": 0,
      "outputs": []
    },
    {
      "cell_type": "markdown",
      "metadata": {
        "id": "uzAilhhgJ1sj",
        "colab_type": "text"
      },
      "source": [
        "Declaring required Globals Data for Further Purposes"
      ]
    },
    {
      "cell_type": "code",
      "metadata": {
        "id": "_x2tUR29kCTt",
        "colab_type": "code",
        "colab": {}
      },
      "source": [
        "models = ['LogisticRegression','SVC','DecisionTreeClassifier','RandomForestClassifier','KNeighborsClassifier','StackingClassifier']\n",
        "accu_types = ['Training Data Accuracy','Testing Data Accuracy','Classification Report','Confusion Matrix']\n",
        "dict1={}\n",
        "dict2={}\n",
        "model_objs = [\n",
        "              LogReg(penalty='l2',class_weight='balanced',max_iter=200),\n",
        "              SVC(kernel='rbf',degree=3,gamma='auto'),\n",
        "              DecTreeC(criterion='gini',splitter='best',max_depth=10,min_samples_leaf=1),\n",
        "              RndFC(n_estimators=150,criterion='gini',random_state=0),\n",
        "              KnnC(n_neighbors=5,weights='uniform',metric='minkowski')\n",
        "]\n",
        "model_objs.append(StackingClassifier(estimators=[('%d'%i,m) for i,m in enumerate(model_objs)], final_estimator=LogReg()))"
      ],
      "execution_count": 0,
      "outputs": []
    },
    {
      "cell_type": "markdown",
      "metadata": {
        "id": "48287Z9iJ-04",
        "colab_type": "text"
      },
      "source": [
        "# Applying Different Models to Predict Cell Type from Gene Data"
      ]
    },
    {
      "cell_type": "code",
      "metadata": {
        "id": "SqA50Q9FmMiQ",
        "colab_type": "code",
        "colab": {}
      },
      "source": [
        "for i, obj in enumerate(model_objs):\n",
        "  obj.fit(X_trn1,y_trn1)\n",
        "  pred = obj.predict(X_tst1)\n",
        "  accu_trn = accuracy_score(obj.predict(X_trn1) ,y_trn1)\n",
        "  accu_tst = accuracy_score(pred ,y_tst1)\n",
        "  rprt = report(pred ,y_tst1)\n",
        "  cmat = cmatrix(pred ,y_tst1)\n",
        "  dict1.update( {models[i] : { accu_types[0] : accu_trn , accu_types[1] : accu_tst , accu_types[2] : rprt , accu_types[3] : cmat}})"
      ],
      "execution_count": 0,
      "outputs": []
    },
    {
      "cell_type": "markdown",
      "metadata": {
        "id": "AKrw4P9iKua2",
        "colab_type": "text"
      },
      "source": [
        "Displaying Respective Accuracy's Obtained from Above Models"
      ]
    },
    {
      "cell_type": "code",
      "metadata": {
        "id": "MPu7kaFP6QBL",
        "colab_type": "code",
        "outputId": "9a136468-690a-4223-b960-81a39c51c277",
        "colab": {
          "base_uri": "https://localhost:8080/",
          "height": 1000
        }
      },
      "source": [
        "print(\"\\t\\tCELL DETECTION\\n\")\n",
        "trn_accs1=[]\n",
        "tst_accs1=[]\n",
        "for k,v in dict1.items():\n",
        "  print(k)\n",
        "  for k2,v2 in v.items():\n",
        "    if(isinstance(v2,str)):\n",
        "      print(\"\\t %s -\\n\\n%s\"%(k2,v2))\n",
        "    elif(isinstance(v2,np.ndarray)):\n",
        "      print(\"\\t %s - \"%k2)\n",
        "      print(v2)\n",
        "    else:\n",
        "      print(\"\\t %s - %f\"%(k2,v2))\n",
        "    if(k2==accu_types[0]):\n",
        "      trn_accs1.append(v2)\n",
        "    elif(k2==accu_types[1]):\n",
        "      tst_accs1.append(v2)\n",
        "  print()"
      ],
      "execution_count": 287,
      "outputs": [
        {
          "output_type": "stream",
          "text": [
            "\t\tCELL DETECTION\n",
            "\n",
            "LogisticRegression\n",
            "\t Training Data Accuracy - 1.000000\n",
            "\t Testing Data Accuracy - 0.958333\n",
            "\t Classification Report -\n",
            "\n",
            "              precision    recall  f1-score   support\n",
            "\n",
            "           0       1.00      0.95      0.97        19\n",
            "           1       0.83      1.00      0.91         5\n",
            "\n",
            "    accuracy                           0.96        24\n",
            "   macro avg       0.92      0.97      0.94        24\n",
            "weighted avg       0.97      0.96      0.96        24\n",
            "\n",
            "\t Confusion Matrix - \n",
            "[[18  1]\n",
            " [ 0  5]]\n",
            "\n",
            "SVC\n",
            "\t Training Data Accuracy - 1.000000\n",
            "\t Testing Data Accuracy - 0.916667\n",
            "\t Classification Report -\n",
            "\n",
            "              precision    recall  f1-score   support\n",
            "\n",
            "           0       1.00      0.90      0.95        20\n",
            "           1       0.67      1.00      0.80         4\n",
            "\n",
            "    accuracy                           0.92        24\n",
            "   macro avg       0.83      0.95      0.87        24\n",
            "weighted avg       0.94      0.92      0.92        24\n",
            "\n",
            "\t Confusion Matrix - \n",
            "[[18  2]\n",
            " [ 0  4]]\n",
            "\n",
            "DecisionTreeClassifier\n",
            "\t Training Data Accuracy - 1.000000\n",
            "\t Testing Data Accuracy - 0.833333\n",
            "\t Classification Report -\n",
            "\n",
            "              precision    recall  f1-score   support\n",
            "\n",
            "           0       0.94      0.85      0.89        20\n",
            "           1       0.50      0.75      0.60         4\n",
            "\n",
            "    accuracy                           0.83        24\n",
            "   macro avg       0.72      0.80      0.75        24\n",
            "weighted avg       0.87      0.83      0.85        24\n",
            "\n",
            "\t Confusion Matrix - \n",
            "[[17  3]\n",
            " [ 1  3]]\n",
            "\n",
            "RandomForestClassifier\n",
            "\t Training Data Accuracy - 1.000000\n",
            "\t Testing Data Accuracy - 0.916667\n",
            "\t Classification Report -\n",
            "\n",
            "              precision    recall  f1-score   support\n",
            "\n",
            "           0       0.94      0.94      0.94        18\n",
            "           1       0.83      0.83      0.83         6\n",
            "\n",
            "    accuracy                           0.92        24\n",
            "   macro avg       0.89      0.89      0.89        24\n",
            "weighted avg       0.92      0.92      0.92        24\n",
            "\n",
            "\t Confusion Matrix - \n",
            "[[17  1]\n",
            " [ 1  5]]\n",
            "\n",
            "KNeighborsClassifier\n",
            "\t Training Data Accuracy - 0.975000\n",
            "\t Testing Data Accuracy - 0.791667\n",
            "\t Classification Report -\n",
            "\n",
            "              precision    recall  f1-score   support\n",
            "\n",
            "           0       0.83      0.88      0.86        17\n",
            "           1       0.67      0.57      0.62         7\n",
            "\n",
            "    accuracy                           0.79        24\n",
            "   macro avg       0.75      0.73      0.74        24\n",
            "weighted avg       0.78      0.79      0.79        24\n",
            "\n",
            "\t Confusion Matrix - \n",
            "[[15  2]\n",
            " [ 3  4]]\n",
            "\n",
            "StackingClassifier\n",
            "\t Training Data Accuracy - 1.000000\n",
            "\t Testing Data Accuracy - 0.916667\n",
            "\t Classification Report -\n",
            "\n",
            "              precision    recall  f1-score   support\n",
            "\n",
            "           0       1.00      0.90      0.95        20\n",
            "           1       0.67      1.00      0.80         4\n",
            "\n",
            "    accuracy                           0.92        24\n",
            "   macro avg       0.83      0.95      0.87        24\n",
            "weighted avg       0.94      0.92      0.92        24\n",
            "\n",
            "\t Confusion Matrix - \n",
            "[[18  2]\n",
            " [ 0  4]]\n",
            "ERROR! Session/line number was not unique in\n",
            " database. History logging moved to new session 65\n"
          ],
          "name": "stdout"
        }
      ]
    },
    {
      "cell_type": "markdown",
      "metadata": {
        "id": "XOuj_xXiK4zz",
        "colab_type": "text"
      },
      "source": [
        "# Applying Different Models to Predict Patient Status (Curable/Fatal) from Gene Data"
      ]
    },
    {
      "cell_type": "code",
      "metadata": {
        "id": "CqtOX0pooUAb",
        "colab_type": "code",
        "colab": {}
      },
      "source": [
        "for i, obj in enumerate(model_objs):\n",
        "  obj.fit(X_trn2,y_trn2)\n",
        "  pred = obj.predict(X_tst2)\n",
        "  accu_trn = accuracy_score(obj.predict(X_trn2) ,y_trn2)\n",
        "  accu_tst = accuracy_score(pred ,y_tst2)\n",
        "  rprt = report(pred ,y_tst2)\n",
        "  cmat = cmatrix(pred ,y_tst2)\n",
        "  dict2.update( {models[i] : { accu_types[0] : accu_trn , accu_types[1] : accu_tst , accu_types[2] : rprt , accu_types[3] : cmat}})"
      ],
      "execution_count": 0,
      "outputs": []
    },
    {
      "cell_type": "markdown",
      "metadata": {
        "id": "en1faySBee3t",
        "colab_type": "text"
      },
      "source": [
        "Displaying Respective Accuracy's Obtained from Above Models"
      ]
    },
    {
      "cell_type": "code",
      "metadata": {
        "id": "QCyrbelJq1cH",
        "colab_type": "code",
        "outputId": "40010075-e3f6-4742-9c17-44d5d78fed4e",
        "colab": {
          "base_uri": "https://localhost:8080/",
          "height": 1000
        }
      },
      "source": [
        "print(\"\\t\\tCURABLE / FATAL\\n\")\n",
        "trn_accs2=[]\n",
        "tst_accs2=[]\n",
        "for k,v in dict2.items():\n",
        "  print(k)\n",
        "  for k2,v2 in v.items():\n",
        "    if(isinstance(v2,str)):\n",
        "      print(\"\\t %s -\\n\\n%s\"%(k2,v2))\n",
        "    elif(isinstance(v2,np.ndarray)):\n",
        "      print(\"\\t %s - \"%k2)\n",
        "      print(v2)\n",
        "    else:\n",
        "      print(\"\\t %s - %f\"%(k2,v2))\n",
        "    if(k2==accu_types[0]):\n",
        "      trn_accs2.append(v2)\n",
        "    elif(k2==accu_types[1]):\n",
        "      tst_accs2.append(v2)\n",
        "  print()"
      ],
      "execution_count": 289,
      "outputs": [
        {
          "output_type": "stream",
          "text": [
            "\t\tCURABLE / FATAL\n",
            "\n",
            "LogisticRegression\n",
            "\t Training Data Accuracy - 0.967742\n",
            "\t Testing Data Accuracy - 0.666667\n",
            "\t Classification Report -\n",
            "\n",
            "              precision    recall  f1-score   support\n",
            "\n",
            "           0       0.50      0.62      0.56         8\n",
            "           1       0.79      0.69      0.73        16\n",
            "\n",
            "    accuracy                           0.67        24\n",
            "   macro avg       0.64      0.66      0.64        24\n",
            "weighted avg       0.69      0.67      0.67        24\n",
            "\n",
            "\t Confusion Matrix - \n",
            "[[ 5  3]\n",
            " [ 5 11]]\n",
            "\n",
            "SVC\n",
            "\t Training Data Accuracy - 0.951613\n",
            "\t Testing Data Accuracy - 0.708333\n",
            "\t Classification Report -\n",
            "\n",
            "              precision    recall  f1-score   support\n",
            "\n",
            "           0       0.50      0.71      0.59         7\n",
            "           1       0.86      0.71      0.77        17\n",
            "\n",
            "    accuracy                           0.71        24\n",
            "   macro avg       0.68      0.71      0.68        24\n",
            "weighted avg       0.75      0.71      0.72        24\n",
            "\n",
            "\t Confusion Matrix - \n",
            "[[ 5  2]\n",
            " [ 5 12]]\n",
            "\n",
            "DecisionTreeClassifier\n",
            "\t Training Data Accuracy - 1.000000\n",
            "\t Testing Data Accuracy - 0.583333\n",
            "\t Classification Report -\n",
            "\n",
            "              precision    recall  f1-score   support\n",
            "\n",
            "           0       0.50      0.50      0.50        10\n",
            "           1       0.64      0.64      0.64        14\n",
            "\n",
            "    accuracy                           0.58        24\n",
            "   macro avg       0.57      0.57      0.57        24\n",
            "weighted avg       0.58      0.58      0.58        24\n",
            "\n",
            "\t Confusion Matrix - \n",
            "[[5 5]\n",
            " [5 9]]\n",
            "\n",
            "RandomForestClassifier\n",
            "\t Training Data Accuracy - 1.000000\n",
            "\t Testing Data Accuracy - 0.708333\n",
            "\t Classification Report -\n",
            "\n",
            "              precision    recall  f1-score   support\n",
            "\n",
            "           0       0.50      0.71      0.59         7\n",
            "           1       0.86      0.71      0.77        17\n",
            "\n",
            "    accuracy                           0.71        24\n",
            "   macro avg       0.68      0.71      0.68        24\n",
            "weighted avg       0.75      0.71      0.72        24\n",
            "\n",
            "\t Confusion Matrix - \n",
            "[[ 5  2]\n",
            " [ 5 12]]\n",
            "\n",
            "KNeighborsClassifier\n",
            "\t Training Data Accuracy - 0.822581\n",
            "\t Testing Data Accuracy - 0.541667\n",
            "\t Classification Report -\n",
            "\n",
            "              precision    recall  f1-score   support\n",
            "\n",
            "           0       0.40      0.44      0.42         9\n",
            "           1       0.64      0.60      0.62        15\n",
            "\n",
            "    accuracy                           0.54        24\n",
            "   macro avg       0.52      0.52      0.52        24\n",
            "weighted avg       0.55      0.54      0.55        24\n",
            "\n",
            "\t Confusion Matrix - \n",
            "[[4 5]\n",
            " [6 9]]\n",
            "\n",
            "StackingClassifier\n",
            "\t Training Data Accuracy - 0.983871\n",
            "\t Testing Data Accuracy - 0.666667\n",
            "\t Classification Report -\n",
            "\n",
            "              precision    recall  f1-score   support\n",
            "\n",
            "           0       0.50      0.62      0.56         8\n",
            "           1       0.79      0.69      0.73        16\n",
            "\n",
            "    accuracy                           0.67        24\n",
            "   macro avg       0.64      0.66      0.64        24\n",
            "weighted avg       0.69      0.67      0.67        24\n",
            "\n",
            "\t Confusion Matrix - \n",
            "[[ 5  3]\n",
            " [ 5 11]]\n",
            "\n"
          ],
          "name": "stdout"
        }
      ]
    },
    {
      "cell_type": "markdown",
      "metadata": {
        "id": "f-8XDOOSehC2",
        "colab_type": "text"
      },
      "source": [
        "# Plotting **Bar Graph** in comparision of Accuracy's across Different Models used for Both Cases"
      ]
    },
    {
      "cell_type": "code",
      "metadata": {
        "id": "HwXh9oug8FDq",
        "colab_type": "code",
        "outputId": "f45ecc3a-24fb-47f0-fe15-924d1da702e0",
        "colab": {
          "base_uri": "https://localhost:8080/",
          "height": 621
        }
      },
      "source": [
        "plt.figure(figsize=(30,10))\n",
        "plt.subplot(1,2,1)\n",
        "def autolabel(rects):\n",
        "    for rect in rects:\n",
        "        height = rect.get_height()\n",
        "        plt.text(rect.get_x() + rect.get_width()/2., height,'%.3f' %float(round(height,3)),ha='center', va='bottom')\n",
        "ind = np.arange(len(models))\n",
        "trn_bar = plt.bar(ind, trn_accs1, 0.25,alpha=0.5,color='y',label='Training Accuracy')\n",
        "autolabel(trn_bar)\n",
        "tst_bar = plt.bar(ind + 0.25, tst_accs1, 0.25,alpha=0.5,color='r',label='Testing Accuracy')\n",
        "autolabel(tst_bar)\n",
        "plt.xlabel('Different Models')\n",
        "plt.ylabel('Accuracy Score')\n",
        "plt.title(\"Training and Testing Accuracy's Comparision Across Different Models - CELL DETECTION\")\n",
        "plt.xticks(ind + 0.125, models)\n",
        "plt.legend()\n",
        "plt.subplot(1,2,2)\n",
        "#plt.figure(figsize=(20,12))\n",
        "ind = np.arange(len(models))\n",
        "trn_bar = plt.bar(ind, trn_accs2, 0.25,alpha=0.5,color='b',label='Training Accuracy')\n",
        "autolabel(trn_bar)\n",
        "tst_bar = plt.bar(ind + 0.25, tst_accs2, 0.25,alpha=0.5,color='g',label='Testing Accuracy')\n",
        "autolabel(tst_bar)\n",
        "plt.xlabel('Different Models')\n",
        "plt.ylabel('Accuracy Score')\n",
        "plt.title(\"Training and Testing Accuracy's Comparision Across Different Models - CURABLE/FATAL\")\n",
        "plt.xticks(ind + 0.125, models)\n",
        "plt.legend()\n",
        "plt.show()"
      ],
      "execution_count": 290,
      "outputs": [
        {
          "output_type": "display_data",
          "data": {
            "image/png": "[encoded data removed]",
            "text/plain": [
              "<Figure size 2160x720 with 2 Axes>"
            ]
          },
          "metadata": {
            "tags": []
          }
        }
      ]
    }
  ]
}