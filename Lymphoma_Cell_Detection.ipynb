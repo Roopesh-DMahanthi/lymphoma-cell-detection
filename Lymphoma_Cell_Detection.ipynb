{
  "nbformat": 4,
  "nbformat_minor": 0,
  "metadata": {
    "colab": {
      "name": "Lymphoma_Cell_Detection.ipynb",
      "provenance": [],
      "collapsed_sections": [],
      "include_colab_link": true
    },
    "kernelspec": {
      "name": "python3",
      "display_name": "Python 3"
    },
    "accelerator": "GPU"
  },
  "cells": [
    {
      "cell_type": "markdown",
      "metadata": {
        "id": "view-in-github",
        "colab_type": "text"
      },
      "source": [
        "<a href=\"https://colab.research.google.com/github/Roopesh-DMahanthi/lymphoma-cell-detection/blob/master/Lymphoma_Cell_Detection.ipynb\" target=\"_parent\"><img src=\"https://colab.research.google.com/assets/colab-badge.svg\" alt=\"Open In Colab\"/></a>"
      ]
    },
    {
      "cell_type": "markdown",
      "metadata": {
        "id": "HOAaPJsfFjS-",
        "colab_type": "text"
      },
      "source": [
        "#Non Hodgkins Lymphoma Cell Detection & Curable/Fatal State Predictor by Gene Expression Profiling using Supervised-Learning"
      ]
    },
    {
      "cell_type": "markdown",
      "metadata": {
        "id": "_i6q7deCGFCi",
        "colab_type": "text"
      },
      "source": [
        "Importing Required Dependencies\n",
        "Numpy, Pandas, Matplotlib\n"
      ]
    },
    {
      "cell_type": "code",
      "metadata": {
        "id": "NrgSob-AFTcV",
        "colab_type": "code",
        "colab": {}
      },
      "source": [
        "import pandas as pd\n",
        "import numpy as np\n",
        "import matplotlib.pyplot as plt"
      ],
      "execution_count": 0,
      "outputs": []
    },
    {
      "cell_type": "markdown",
      "metadata": {
        "id": "a48MUbshGTNV",
        "colab_type": "text"
      },
      "source": [
        "Importing Dataset from the Below Github Link concerned with this Project"
      ]
    },
    {
      "cell_type": "code",
      "metadata": {
        "id": "F1k3dyccJyJ6",
        "colab_type": "code",
        "colab": {}
      },
      "source": [
        "df = pd.read_csv('https://github.com/Roopesh-DMahanthi/lymphoma-cell-detection/raw/master/Lymphoma-Dataset.csv') "
      ],
      "execution_count": 0,
      "outputs": []
    },
    {
      "cell_type": "markdown",
      "metadata": {
        "id": "Bc58-oi3Gj-o",
        "colab_type": "text"
      },
      "source": [
        "Checking whether Dataset Contains any **NULL** Values"
      ]
    },
    {
      "cell_type": "code",
      "metadata": {
        "id": "GMSLvfMgKBlZ",
        "colab_type": "code",
        "outputId": "e8c5464b-0ca3-4639-8bc4-6d87fb883a4a",
        "colab": {
          "base_uri": "https://localhost:8080/",
          "height": 221
        }
      },
      "source": [
        "print((df.isna()==True).sum())"
      ],
      "execution_count": 47,
      "outputs": [
        {
          "output_type": "stream",
          "text": [
            "V1       0\n",
            "V2       0\n",
            "V3       0\n",
            "V4       0\n",
            "V5       0\n",
            "        ..\n",
            "V7127    0\n",
            "V7128    0\n",
            "V7129    0\n",
            "TYPE     0\n",
            "DTH      0\n",
            "Length: 7131, dtype: int64\n"
          ],
          "name": "stdout"
        }
      ]
    },
    {
      "cell_type": "markdown",
      "metadata": {
        "id": "UfmZmXLeGtB_",
        "colab_type": "text"
      },
      "source": [
        "Splitting of Features and Labels as per Required\n",
        "X contains all the Features\n",
        "y1 contains Types of Cells Details\n",
        "y2 contains whether the patient's conditon is Curable or Fatal"
      ]
    },
    {
      "cell_type": "code",
      "metadata": {
        "id": "iEARvNumKEVH",
        "colab_type": "code",
        "outputId": "ecfc444d-7517-4c15-bd1a-5598d5fe4182",
        "colab": {
          "base_uri": "https://localhost:8080/",
          "height": 68
        }
      },
      "source": [
        "X = df.iloc[:,:-2].values\n",
        "y1 = df.iloc[:,-2].values\n",
        "y2 = df.iloc[:,-1].values\n",
        "print(\"X - Shape {}\".format(X.shape))\n",
        "print(\"y1 - Shape {}\".format(y1.shape))\n",
        "print(\"y2 - Shape {}\".format(y2.shape))"
      ],
      "execution_count": 48,
      "outputs": [
        {
          "output_type": "stream",
          "text": [
            "X - Shape (77, 7129)\n",
            "y1 - Shape (77,)\n",
            "y2 - Shape (77,)\n"
          ],
          "name": "stdout"
        }
      ]
    },
    {
      "cell_type": "markdown",
      "metadata": {
        "id": "8X6pUsY4HlLn",
        "colab_type": "text"
      },
      "source": [
        "#Data Preprocessing"
      ]
    },
    {
      "cell_type": "markdown",
      "metadata": {
        "id": "5pZnAUcNHqPD",
        "colab_type": "text"
      },
      "source": [
        "Importing required Data Preprocessing Libraries"
      ]
    },
    {
      "cell_type": "code",
      "metadata": {
        "id": "0kxSG3xbKagT",
        "colab_type": "code",
        "colab": {}
      },
      "source": [
        "from sklearn.preprocessing import LabelEncoder,MinMaxScaler,StandardScaler\n",
        "from sklearn.model_selection import train_test_split as tts\n",
        "from sklearn.decomposition import PCA"
      ],
      "execution_count": 0,
      "outputs": []
    },
    {
      "cell_type": "markdown",
      "metadata": {
        "id": "pfkIndSOHwi9",
        "colab_type": "text"
      },
      "source": [
        "Applying LabelEncoder over y1 and y2 to convert categorical values to Integer Values"
      ]
    },
    {
      "cell_type": "code",
      "metadata": {
        "id": "eJ8zBLmkN5na",
        "colab_type": "code",
        "colab": {}
      },
      "source": [
        "le_c = LabelEncoder()\n",
        "le_c.fit(y1)\n",
        "y_map1 = {i : l for i, l in enumerate(le_c.classes_)}\n",
        "y1 = le_c.transform(y1)\n",
        "le_d = LabelEncoder()\n",
        "le_d.fit(y2)\n",
        "y_map2 = {i : l for i, l in enumerate(le_d.classes_)}\n",
        "y2 = le_d.transform(y2)"
      ],
      "execution_count": 0,
      "outputs": []
    },
    {
      "cell_type": "markdown",
      "metadata": {
        "id": "qsQyssBQH6Jf",
        "colab_type": "text"
      },
      "source": [
        "Displaying the Mappings Done on y1 and y2"
      ]
    },
    {
      "cell_type": "code",
      "metadata": {
        "id": "hPoMFJ2Po5--",
        "colab_type": "code",
        "colab": {
          "base_uri": "https://localhost:8080/",
          "height": 34
        },
        "outputId": "f4ee8180-bca9-429d-ec77-f116f7678408"
      },
      "source": [
        "y_map1,y_map2"
      ],
      "execution_count": 51,
      "outputs": [
        {
          "output_type": "execute_result",
          "data": {
            "text/plain": [
              "({0: 'DLBCL', 1: 'FL'}, {0: 'CURED', 1: 'FATAL'})"
            ]
          },
          "metadata": {
            "tags": []
          },
          "execution_count": 51
        }
      ]
    },
    {
      "cell_type": "markdown",
      "metadata": {
        "id": "vJQbnpo8IYEP",
        "colab_type": "text"
      },
      "source": [
        "Splitting up of Data for Training and Testing the Models"
      ]
    },
    {
      "cell_type": "code",
      "metadata": {
        "id": "b-A5Ye3NKt6w",
        "colab_type": "code",
        "colab": {}
      },
      "source": [
        "X_trn,X_tst,y_trn1,y_tst1 = tts(X,y1,test_size=0.3,random_state=0,stratify=y1)\n",
        "X_trn2,X_tst2,y_trn2,y_tst2 = tts(X,y2,test_size=0.3,random_state=0,stratify=y2)"
      ],
      "execution_count": 0,
      "outputs": []
    },
    {
      "cell_type": "markdown",
      "metadata": {
        "id": "a72Sn-0-Ihpv",
        "colab_type": "text"
      },
      "source": [
        "Apllying Principal Component Analysis on both Training and Testing Features Data"
      ]
    },
    {
      "cell_type": "code",
      "metadata": {
        "id": "VKaxv0AsWfem",
        "colab_type": "code",
        "colab": {}
      },
      "source": [
        "pca1 = PCA(n_components= 15)\n",
        "X_trn = pca1.fit_transform(X_trn)\n",
        "X_tst = pca1.fit_transform(X_tst)\n",
        "pca2 = PCA(n_components= 15)\n",
        "X_trn2 = pca2.fit_transform(X_trn2)\n",
        "X_tst2 = pca2.fit_transform(X_tst2)"
      ],
      "execution_count": 0,
      "outputs": []
    },
    {
      "cell_type": "markdown",
      "metadata": {
        "id": "ZsP1rE2rIw6e",
        "colab_type": "text"
      },
      "source": [
        "Applying StandardScaler to Standardize values"
      ]
    },
    {
      "cell_type": "code",
      "metadata": {
        "id": "6B1osLNvHnET",
        "colab_type": "code",
        "colab": {}
      },
      "source": [
        "sc1=StandardScaler()\n",
        "X_trn=sc1.fit_transform(X_trn)\n",
        "X_tst=sc1.fit_transform(X_tst)\n",
        "sc2=StandardScaler()\n",
        "X_trn2=sc2.fit_transform(X_trn2)\n",
        "X_tst2=sc2.fit_transform(X_tst2)"
      ],
      "execution_count": 0,
      "outputs": []
    },
    {
      "cell_type": "markdown",
      "metadata": {
        "id": "18fTCGsdJqC0",
        "colab_type": "text"
      },
      "source": [
        "# Importing Required Supervised-Learning Models"
      ]
    },
    {
      "cell_type": "code",
      "metadata": {
        "id": "Wqw0mZrPbCBs",
        "colab_type": "code",
        "colab": {}
      },
      "source": [
        "from sklearn.linear_model import LogisticRegression as LogReg\n",
        "from sklearn.svm import SVC\n",
        "from sklearn.tree import DecisionTreeClassifier as DecTreeC\n",
        "from sklearn.ensemble import RandomForestClassifier as RndFC\n",
        "from sklearn.neighbors import KNeighborsClassifier as KnnC\n",
        "from sklearn.metrics import classification_report as report ,confusion_matrix as cmatrix, accuracy_score"
      ],
      "execution_count": 0,
      "outputs": []
    },
    {
      "cell_type": "markdown",
      "metadata": {
        "id": "uzAilhhgJ1sj",
        "colab_type": "text"
      },
      "source": [
        "Declaring required Globals Data for Further Purposes"
      ]
    },
    {
      "cell_type": "code",
      "metadata": {
        "id": "_x2tUR29kCTt",
        "colab_type": "code",
        "colab": {}
      },
      "source": [
        "models = ['LogisticRegression','SVC','DecisionTreeClassifier','RandomForestClassifier','KNeighborsClassifier']\n",
        "accu_types = ['Training Data Accuracy','Testing Data Accuracy']\n",
        "dict1={}\n",
        "dict2={}"
      ],
      "execution_count": 0,
      "outputs": []
    },
    {
      "cell_type": "markdown",
      "metadata": {
        "id": "48287Z9iJ-04",
        "colab_type": "text"
      },
      "source": [
        "# Applying Different Models to Predict Cell Type from Gene Data"
      ]
    },
    {
      "cell_type": "markdown",
      "metadata": {
        "id": "kpIxPvkTKIXG",
        "colab_type": "text"
      },
      "source": [
        "*Using Logistic Regression to Classify Type of Cell Data*"
      ]
    },
    {
      "cell_type": "code",
      "metadata": {
        "id": "mleLP8hec1wj",
        "colab_type": "code",
        "colab": {}
      },
      "source": [
        "obj = LogReg(penalty='l2',class_weight='balanced',max_iter=200)\n",
        "obj.fit(X_trn,y_trn1)\n",
        "accu_trn = accuracy_score(obj.predict(X_trn) ,y_trn1)\n",
        "accu_tst = accuracy_score(obj.predict(X_tst) ,y_tst1)\n",
        "dict1.update( {models[0] : { accu_types[0] : accu_trn , accu_types[1] : accu_tst}})"
      ],
      "execution_count": 0,
      "outputs": []
    },
    {
      "cell_type": "markdown",
      "metadata": {
        "id": "dBBItuaYKS3v",
        "colab_type": "text"
      },
      "source": [
        "*Using Support Vector Classifier to Classify Type of Cell Data*"
      ]
    },
    {
      "cell_type": "code",
      "metadata": {
        "id": "4Gn4vk68guDr",
        "colab_type": "code",
        "colab": {}
      },
      "source": [
        "obj = SVC(kernel='rbf',degree=3,gamma='auto')\n",
        "obj.fit(X_trn,y_trn1)\n",
        "accu_trn = accuracy_score(obj.predict(X_trn) ,y_trn1)\n",
        "accu_tst = accuracy_score(obj.predict(X_tst) ,y_tst1)\n",
        "dict1.update( {models[1] : { accu_types[0] : accu_trn , accu_types[1] : accu_tst}})"
      ],
      "execution_count": 0,
      "outputs": []
    },
    {
      "cell_type": "markdown",
      "metadata": {
        "id": "Kn27fFRcKcYU",
        "colab_type": "text"
      },
      "source": [
        "*Using Decision Tree Classifier to Classify Type of Cell Data*"
      ]
    },
    {
      "cell_type": "code",
      "metadata": {
        "id": "fCAdvHIQpRVR",
        "colab_type": "code",
        "colab": {}
      },
      "source": [
        "obj = DecTreeC(criterion='gini',splitter='best',max_depth=10,min_samples_leaf=1)\n",
        "obj.fit(X_trn,y_trn1)\n",
        "accu_trn = accuracy_score(obj.predict(X_trn) ,y_trn1)\n",
        "accu_tst = accuracy_score(obj.predict(X_tst) ,y_tst1)\n",
        "dict1.update( {models[2] : { accu_types[0] : accu_trn , accu_types[1] : accu_tst}})"
      ],
      "execution_count": 0,
      "outputs": []
    },
    {
      "cell_type": "markdown",
      "metadata": {
        "id": "djqj6wjcKikO",
        "colab_type": "text"
      },
      "source": [
        "*Using Random Forest Classifier to Classify Type of Cell Data*"
      ]
    },
    {
      "cell_type": "code",
      "metadata": {
        "id": "Bb733YvHpUAv",
        "colab_type": "code",
        "colab": {}
      },
      "source": [
        "obj = RndFC(n_estimators=50,criterion='gini',random_state=0)\n",
        "obj.fit(X_trn,y_trn1)\n",
        "accu_trn = accuracy_score(obj.predict(X_trn) ,y_trn1)\n",
        "accu_tst = accuracy_score(obj.predict(X_tst) ,y_tst1)\n",
        "dict1.update( {models[3] : { accu_types[0] : accu_trn , accu_types[1] : accu_tst}})"
      ],
      "execution_count": 0,
      "outputs": []
    },
    {
      "cell_type": "markdown",
      "metadata": {
        "id": "23GQYZYRKnqw",
        "colab_type": "text"
      },
      "source": [
        "Using K-Nearest Neighbours Classifier to Classify Type of Cell Data"
      ]
    },
    {
      "cell_type": "code",
      "metadata": {
        "id": "EUcyWGFhqE7R",
        "colab_type": "code",
        "colab": {}
      },
      "source": [
        "obj = KnnC(n_neighbors=10,weights='distance',metric='minkowski')\n",
        "obj.fit(X_trn,y_trn1)\n",
        "accu_trn = accuracy_score(obj.predict(X_trn) ,y_trn1)\n",
        "accu_tst = accuracy_score(obj.predict(X_tst) ,y_tst1)\n",
        "dict1.update( {models[4] : { accu_types[0] : accu_trn , accu_types[1] : accu_tst}})"
      ],
      "execution_count": 0,
      "outputs": []
    },
    {
      "cell_type": "markdown",
      "metadata": {
        "id": "AKrw4P9iKua2",
        "colab_type": "text"
      },
      "source": [
        "Displaying Respective Accuracy's Obtained from Above Models"
      ]
    },
    {
      "cell_type": "code",
      "metadata": {
        "id": "MPu7kaFP6QBL",
        "colab_type": "code",
        "outputId": "5eec4067-9ac5-4fa4-e5c7-800198b42495",
        "colab": {
          "base_uri": "https://localhost:8080/",
          "height": 391
        }
      },
      "source": [
        "print(\"\\t\\tCELL DETECTION\\n\")\n",
        "trn_accs1=[]\n",
        "tst_accs1=[]\n",
        "for k,v in dict1.items():\n",
        "  print(k)\n",
        "  for k2,v2 in v.items():\n",
        "    print(\"\\t %s - %f\"%(k2,v2))\n",
        "    if(k2==accu_types[0]):\n",
        "      trn_accs1.append(v2)\n",
        "    else:\n",
        "      tst_accs1.append(v2)\n",
        "  print()"
      ],
      "execution_count": 62,
      "outputs": [
        {
          "output_type": "stream",
          "text": [
            "\t\tCELL DETECTION\n",
            "\n",
            "LogisticRegression\n",
            "\t Training Data Accuracy - 1.000000\n",
            "\t Testing Data Accuracy - 0.500000\n",
            "\n",
            "SVC\n",
            "\t Training Data Accuracy - 1.000000\n",
            "\t Testing Data Accuracy - 0.666667\n",
            "\n",
            "DecisionTreeClassifier\n",
            "\t Training Data Accuracy - 1.000000\n",
            "\t Testing Data Accuracy - 0.666667\n",
            "\n",
            "RandomForestClassifier\n",
            "\t Training Data Accuracy - 1.000000\n",
            "\t Testing Data Accuracy - 0.666667\n",
            "\n",
            "KNeighborsClassifier\n",
            "\t Training Data Accuracy - 1.000000\n",
            "\t Testing Data Accuracy - 0.625000\n",
            "\n"
          ],
          "name": "stdout"
        }
      ]
    },
    {
      "cell_type": "markdown",
      "metadata": {
        "id": "XOuj_xXiK4zz",
        "colab_type": "text"
      },
      "source": [
        "# Applying Different Models to Predict Patient Status (Curable/Fatal) from Gene Data"
      ]
    },
    {
      "cell_type": "markdown",
      "metadata": {
        "id": "I59G860vMzXF",
        "colab_type": "text"
      },
      "source": [
        "*Using Logistic Regression to Classify Patient Status*"
      ]
    },
    {
      "cell_type": "code",
      "metadata": {
        "colab_type": "code",
        "id": "m-NgGWYhqC3F",
        "colab": {}
      },
      "source": [
        "obj = LogReg(penalty='l2',class_weight='balanced',max_iter=500)\n",
        "obj.fit(X_trn2,y_trn2)\n",
        "accu_trn = accuracy_score(obj.predict(X_trn2) ,y_trn2)\n",
        "accu_tst = accuracy_score(obj.predict(X_tst2) ,y_tst2)\n",
        "dict2.update( {models[0] : { accu_types[0] : accu_trn , accu_types[1] : accu_tst}})"
      ],
      "execution_count": 0,
      "outputs": []
    },
    {
      "cell_type": "markdown",
      "metadata": {
        "id": "bLBX_-4_NJqg",
        "colab_type": "text"
      },
      "source": [
        "*Using Support Vector Classifier to Classify Patient Status*"
      ]
    },
    {
      "cell_type": "code",
      "metadata": {
        "colab_type": "code",
        "id": "kaeGeZ1rqC3M",
        "colab": {}
      },
      "source": [
        "obj = SVC(kernel='rbf',degree=3)\n",
        "obj.fit(X_trn2,y_trn2)\n",
        "accu_trn = accuracy_score(obj.predict(X_trn2) ,y_trn2)\n",
        "accu_tst = accuracy_score(obj.predict(X_tst2) ,y_tst2)\n",
        "dict2.update( {models[1] : { accu_types[0] : accu_trn , accu_types[1] : accu_tst}})"
      ],
      "execution_count": 0,
      "outputs": []
    },
    {
      "cell_type": "markdown",
      "metadata": {
        "id": "vZ7kHoYheNnC",
        "colab_type": "text"
      },
      "source": [
        "*Using Decision Tree Classifier to Classify Patient Status*"
      ]
    },
    {
      "cell_type": "code",
      "metadata": {
        "colab_type": "code",
        "id": "onvAjPfCqC3T",
        "colab": {}
      },
      "source": [
        "obj = DecTreeC(criterion='gini',splitter='best',max_depth=10,min_samples_leaf=1)\n",
        "obj.fit(X_trn2,y_trn1)\n",
        "accu_trn = accuracy_score(obj.predict(X_trn2) ,y_trn1)\n",
        "accu_tst = accuracy_score(obj.predict(X_tst2) ,y_tst1)\n",
        "dict2.update( {models[2] : { accu_types[0] : accu_trn , accu_types[1] : accu_tst}})"
      ],
      "execution_count": 0,
      "outputs": []
    },
    {
      "cell_type": "markdown",
      "metadata": {
        "id": "JiLB51z2eSXz",
        "colab_type": "text"
      },
      "source": [
        "*Using Random Forest Classifier to Classify Patient Status*"
      ]
    },
    {
      "cell_type": "code",
      "metadata": {
        "colab_type": "code",
        "id": "LNlep2OhqC3X",
        "colab": {}
      },
      "source": [
        "obj = RndFC(n_estimators=50,criterion='gini',random_state=0)\n",
        "obj.fit(X_trn2,y_trn2)\n",
        "accu_trn = accuracy_score(obj.predict(X_trn2) ,y_trn2)\n",
        "accu_tst = accuracy_score(obj.predict(X_tst2) ,y_tst2)\n",
        "dict2.update( {models[3] : { accu_types[0] : accu_trn , accu_types[1] : accu_tst}})"
      ],
      "execution_count": 0,
      "outputs": []
    },
    {
      "cell_type": "markdown",
      "metadata": {
        "id": "yA7KmVGueWV5",
        "colab_type": "text"
      },
      "source": [
        "*Using K-Nearest Neighbours Classifier to Classify Patient Status*"
      ]
    },
    {
      "cell_type": "code",
      "metadata": {
        "colab_type": "code",
        "id": "3fJcPsIUqC3b",
        "colab": {}
      },
      "source": [
        "obj = KnnC(n_neighbors=10,weights='distance',metric='minkowski')\n",
        "obj.fit(X_trn2,y_trn2)\n",
        "accu_trn = accuracy_score(obj.predict(X_trn2) ,y_trn2)\n",
        "accu_tst = accuracy_score(obj.predict(X_tst2) ,y_tst2)\n",
        "dict2.update( {models[4] : { accu_types[0] : accu_trn , accu_types[1] : accu_tst}})"
      ],
      "execution_count": 0,
      "outputs": []
    },
    {
      "cell_type": "markdown",
      "metadata": {
        "id": "en1faySBee3t",
        "colab_type": "text"
      },
      "source": [
        "Displaying Respective Accuracy's Obtained from Above Models"
      ]
    },
    {
      "cell_type": "code",
      "metadata": {
        "id": "QCyrbelJq1cH",
        "colab_type": "code",
        "colab": {
          "base_uri": "https://localhost:8080/",
          "height": 391
        },
        "outputId": "8ff75c87-05da-483f-aa24-cef52f9fef2c"
      },
      "source": [
        "print(\"\\t\\tCURABLE / FATAL\\n\")\n",
        "trn_accs2=[]\n",
        "tst_accs2=[]\n",
        "for k,v in dict2.items():\n",
        "  print(k)\n",
        "  for k2,v2 in v.items():\n",
        "    print(\"\\t %s - %f\"%(k2,v2))\n",
        "    if(k2==accu_types[0]):\n",
        "      trn_accs2.append(v2)\n",
        "    else:\n",
        "      tst_accs2.append(v2)\n",
        "  print()"
      ],
      "execution_count": 68,
      "outputs": [
        {
          "output_type": "stream",
          "text": [
            "\t\tCURABLE / FATAL\n",
            "\n",
            "LogisticRegression\n",
            "\t Training Data Accuracy - 0.773585\n",
            "\t Testing Data Accuracy - 0.416667\n",
            "\n",
            "SVC\n",
            "\t Training Data Accuracy - 0.924528\n",
            "\t Testing Data Accuracy - 0.541667\n",
            "\n",
            "DecisionTreeClassifier\n",
            "\t Training Data Accuracy - 1.000000\n",
            "\t Testing Data Accuracy - 0.541667\n",
            "\n",
            "RandomForestClassifier\n",
            "\t Training Data Accuracy - 0.981132\n",
            "\t Testing Data Accuracy - 0.458333\n",
            "\n",
            "KNeighborsClassifier\n",
            "\t Training Data Accuracy - 1.000000\n",
            "\t Testing Data Accuracy - 0.541667\n",
            "\n"
          ],
          "name": "stdout"
        }
      ]
    },
    {
      "cell_type": "markdown",
      "metadata": {
        "id": "f-8XDOOSehC2",
        "colab_type": "text"
      },
      "source": [
        "# Plotting **Bar Graph** in comparision of Accuracy's across Different Models used for Both Cases"
      ]
    },
    {
      "cell_type": "code",
      "metadata": {
        "id": "HwXh9oug8FDq",
        "colab_type": "code",
        "outputId": "b1582b91-1dad-41cc-d4c6-c289f584d184",
        "colab": {
          "base_uri": "https://localhost:8080/",
          "height": 621
        }
      },
      "source": [
        "plt.figure(figsize=(30,10))\n",
        "plt.subplot(1,2,1)\n",
        "def autolabel(rects):\n",
        "    for rect in rects:\n",
        "        height = rect.get_height()\n",
        "        plt.text(rect.get_x() + rect.get_width()/2., height,'%.3f' %float(round(height,3)),ha='center', va='bottom')\n",
        "ind = np.arange(len(models))\n",
        "trn_bar = plt.bar(ind, trn_accs1, 0.25,alpha=0.5,color='y',label='Training Accuracy')\n",
        "autolabel(trn_bar)\n",
        "tst_bar = plt.bar(ind + 0.25, tst_accs1, 0.25,alpha=0.5,color='r',label='Testing Accuracy')\n",
        "autolabel(tst_bar)\n",
        "plt.xlabel('Different Models')\n",
        "plt.ylabel('Accuracy Score')\n",
        "plt.title(\"Training and Testing Accuracy's Comparision Across Different Models - CELL DETECTION\")\n",
        "plt.xticks(ind + 0.125, models)\n",
        "plt.legend()\n",
        "plt.subplot(1,2,2)\n",
        "#plt.figure(figsize=(20,12))\n",
        "ind = np.arange(len(models))\n",
        "trn_bar = plt.bar(ind, trn_accs2, 0.25,alpha=0.5,color='b',label='Training Accuracy')\n",
        "autolabel(trn_bar)\n",
        "tst_bar = plt.bar(ind + 0.25, tst_accs2, 0.25,alpha=0.5,color='g',label='Testing Accuracy')\n",
        "autolabel(tst_bar)\n",
        "plt.xlabel('Different Models')\n",
        "plt.ylabel('Accuracy Score')\n",
        "plt.title(\"Training and Testing Accuracy's Comparision Across Different Models - CURABLE/FATAL\")\n",
        "plt.xticks(ind + 0.125, models)\n",
        "plt.legend()\n",
        "plt.show()"
      ],
      "execution_count": 69,
      "outputs": [
        {
          "output_type": "display_data",
          "data": {
            "image/png": "[encoded data removed]",
            "text/plain": [
              "<Figure size 2160x720 with 2 Axes>"
            ]
          },
          "metadata": {
            "tags": []
          }
        }
      ]
    },
    {
      "cell_type": "code",
      "metadata": {
        "id": "IBcdHPCz-fcm",
        "colab_type": "code",
        "colab": {}
      },
      "source": [
        ""
      ],
      "execution_count": 0,
      "outputs": []
    }
  ]
}